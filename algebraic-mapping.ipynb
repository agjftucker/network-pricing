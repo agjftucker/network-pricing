{
 "cells": [
  {
   "cell_type": "markdown",
   "metadata": {},
   "source": [
    "On the [wiki page](https://github.com/agjftucker/neva/wiki/Pseudospectral-Solution) we got as far as,\n",
    "\\begin{equation*}\n",
    "  \\left(D_{y_{k}}\\boldsymbol{x}\\right)=\n",
    " -\\left(D_{\\boldsymbol{x}}\\boldsymbol{G}\\right)^{-1}\\left(D_{y_{k}}\\boldsymbol{G}\\right)\n",
    " \\qquad\\qquad\n",
    " (1)\n",
    "\\end{equation*}\n",
    "and\n",
    "\\begin{equation*}\n",
    " \\left(D_{y_{k}y_{l}}\\boldsymbol{x}\\right) =\n",
    " -\\left(D_{\\boldsymbol{x}}\\boldsymbol{G}\\right)^{-1}\\left(\n",
    "\\left( D_{y_{k}y_{l}}\\boldsymbol{G}\\right)\n",
    "+\\sum_{n} \\left(D_{x_{n}y_{k}}\\boldsymbol{G}\\right) \\left(D_{y_{l}}\n",
    "  x_{n}\\right)\n",
    "+\\sum_{m}\\left(D_{x_{m}y_{l}}\\boldsymbol{G}\\right)\\left(D_{y_{k}}x_m\\right)\n",
    "+\\sum_{mn}\\left(D_{y_{k}}x_{m}\\right)\\left(D_{x_{m}x_{n}}\\boldsymbol{G}\\right) \\left(D_{y_{l}}x_{n}\\right)\n",
    "\\right).\n",
    " \\qquad(2)\n",
    "\\end{equation*}"
   ]
  },
  {
   "cell_type": "markdown",
   "metadata": {},
   "source": [
    "But let's change the suggestion in its final paragraph to\n",
    "\\begin{equation*}\n",
    "  G_{j}(\\boldsymbol{x}, \\boldsymbol{y}) = \\frac{\\left(1+x_{j}\\right)\\eta_{j}}{1-x_{j}} +\n",
    "  \\log\\!\\left(z_{j}-\\sum_{i\\neq j}v^{(j)}_{i} L_{ij}\\right) - y_{j}\n",
    "\\end{equation*}\n",
    "so that the associated mapping is from $x\\in[-1,1]$ to $y$ in the appropriate semi-infinite interval,\n",
    "\\begin{equation*}\n",
    "  G_{j}(\\boldsymbol{x}, \\boldsymbol{y})=0\\quad\\implies\\quad\n",
    "  y_{j} = \\frac{\\left(1+x_{j}\\right)\\eta_{j}}{1-x_{j}} +\n",
    "  \\log\\!\\left(z_{j}-\\sum_{i\\neq j}v^{(j)}_{i} L_{ij}\\right).\n",
    "\\end{equation*}"
   ]
  },
  {
   "cell_type": "markdown",
   "metadata": {},
   "source": [
    "Then\n",
    "\\begin{equation*}\n",
    "  D_{x_{m}}G_{j}=\n",
    "  \\begin{cases}\n",
    "    \\frac{2\\eta_{j}}{\\left(1-x_{j}\\right)^{2}} & m =j\\\\\n",
    "-\\frac{\\sum_{i\\neq j}D_{x_{m}}v^{(j)}_{i} L_{ij}}{z_{j}-\\sum_{i\\neq j}v^{(j)}_{i} L_{ij}} & m \\neq j\n",
    "  \\end{cases}\n",
    "\\end{equation*}"
   ]
  },
  {
   "cell_type": "code",
   "execution_count": null,
   "metadata": {},
   "outputs": [],
   "source": [
    "for s, j in enumerate(B):\n",
    "    not_j = B[:s] + B[s+1:]\n",
    "    fail_j = z[j] - np.sum(v[not_j][i] * L[i, j] for i in not_j)\n",
    "    \n",
    "    Dx_G[s, s] = (2. * eta_j / (1. - x[1:]) ** 2).reshape(bulge)\n",
    "    for m in not_j:\n",
    "        Dx_G[s, axis[m]] = (-np.sum(Dx_v[i, m] * L[i, j] for i in not_j) / fail_j).reshape(pinch)"
   ]
  },
  {
   "cell_type": "markdown",
   "metadata": {},
   "source": [
    "and\n",
    "\\begin{equation*}\n",
    "  D_{x_{m}x_{n}}G_{j}=\n",
    "  \\begin{cases}\n",
    "    \\frac{4\\eta_{j}}{\\left(1-x_{j}\\right)^{3}} & m =j=n\\\\\n",
    "-\\frac{\n",
    "\\sum_{i\\neq j}D_{x_{m}x_{n}}v^{(j)}_{i} L_{ij}}{z_{j}-\\sum_{i\\neq j}v^{(j)}_{i} L_{ij}}\n",
    "-\\frac{\\left(\\sum_{i\\neq j}D_{x_{m}}v^{(j)}_{i}\n",
    "  L_{ij}\\right)\n",
    "\\left( \\sum_{i\\neq j}D_{x_{n}}v^{(j)}_{i} L_{ij}\\right)}\n",
    "{\\left(z_{j}-\\sum_{i\\neq j}v^{(j)}_{i} L_{ij}\\right)^{2}} & m \\neq j\n",
    "\\neq n\\\\\n",
    "0 &\\text{otherwise}.\n",
    "  \\end{cases}\n",
    "\\end{equation*}"
   ]
  },
  {
   "cell_type": "code",
   "execution_count": null,
   "metadata": {},
   "outputs": [],
   "source": [
    "    Dxx_G[j, j, j] = (4. * eta_j / (1. - x[1:]) ** 3).reshape(bulge)\n",
    "    for m, n in combinations_with_replacement(not_j, 2):\n",
    "        Dxx_G[j, m, n] = (-np.sum(Dxx_v[i, m, n] * L[i, j] for i in not_j) / fail_j\n",
    "                          - (np.sum(Dx_v[i, m] * L[i, j] for i in not_j)\n",
    "                             * np.sum(Dx_v[i, n] * L[i, j] for i in not_j)) / fail_j ** 2).reshape(pinch)"
   ]
  },
  {
   "cell_type": "markdown",
   "metadata": {},
   "source": [
    "From equation 1 and the fact that\n",
    " $D_{\\boldsymbol{y}}\\boldsymbol{G}=-\\boldsymbol{I}$, we have\n",
    "\\begin{equation*}\n",
    "  \\left(D_{\\boldsymbol{y}}\\boldsymbol{x}\\right) = \\left( D_{\\boldsymbol{x}} \\boldsymbol{G}\\right)^{-1}\n",
    "\\end{equation*}"
   ]
  },
  {
   "cell_type": "code",
   "execution_count": null,
   "metadata": {},
   "outputs": [],
   "source": [
    "Dx_G_shift = np.moveaxis(Dx_G, (0, 1), (-2, -1))\n",
    "inv_Dx_G = np.moveaxis(np.linalg.inv(Dx_G_shift), (-2, -1), (0, 1))\n",
    "\n",
    "def Dy_x(i, k):\n",
    "    return inv_Dx_G[axis[i], axis[k]]"
   ]
  },
  {
   "cell_type": "markdown",
   "metadata": {},
   "source": [
    "while from equation 2,\n",
    "\\begin{equation*}\n",
    " \\left(D_{y_{k}y_{l}}\\boldsymbol{x}\\right) =\n",
    " -\\left(D_{\\boldsymbol{x}}\\boldsymbol{G}\\right)^{-1}\n",
    "\\sum_{mn}\\left(D_{y_{k}}x_{m}\\right)\\left(D_{x_{m}x_{n}}\\boldsymbol{G}\\right) \\left(D_{y_{l}}x_{n}\\right).\n",
    "\\end{equation*}"
   ]
  },
  {
   "cell_type": "code",
   "execution_count": null,
   "metadata": {},
   "outputs": [],
   "source": [
    "def Dyy_x(i, k, l):\n",
    "    return -np.sum(\n",
    "        inv_Dx_G[axis[i], s] * (np.sum(Dy_x(m, k) * Dy_x(m, l) * Dxx_G[j, m, m] for m in B)\n",
    "                                + np.sum((Dy_x(m, k) * Dy_x(n, l) + Dy_x(n, k) * Dy_x(m, l)) * Dxx_G[j, m, n]\n",
    "                                         for m, n in combinations(B[:s] + B[s+1:], 2)))\n",
    "        for s, j in enumerate(B))"
   ]
  },
  {
   "cell_type": "markdown",
   "metadata": {},
   "source": [
    "We need the mapping between $x$ and $y$ bijective. This is implied if the derivative $D_{\\boldsymbol{x}}\\boldsymbol{G}$ (= $D_{\\boldsymbol{x}}\\boldsymbol{y}$) is positive definite everywhere."
   ]
  },
  {
   "cell_type": "code",
   "execution_count": null,
   "metadata": {},
   "outputs": [],
   "source": [
    "try:\n",
    "    np.linalg.cholesky(Dx_G_shift + Dx_G_shift.swapaxes(-2, -1))\n",
    "except np.linalg.LinAlgError:\n",
    "    print(\"Dx_G may not be positive definite everywhere.\")"
   ]
  }
 ],
 "metadata": {
  "kernelspec": {
   "display_name": "Python 3",
   "language": "python",
   "name": "python3"
  },
  "language_info": {
   "codemirror_mode": {
    "name": "ipython",
    "version": 3
   },
   "file_extension": ".py",
   "mimetype": "text/x-python",
   "name": "python",
   "nbconvert_exporter": "python",
   "pygments_lexer": "ipython3",
   "version": "3.6.6"
  }
 },
 "nbformat": 4,
 "nbformat_minor": 2
}
